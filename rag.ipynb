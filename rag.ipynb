{
 "cells": [
  {
   "cell_type": "code",
   "execution_count": 38,
   "id": "641d91c4",
   "metadata": {},
   "outputs": [],
   "source": [
    "import chromadb\n",
    "\n",
    "chroma_client = chromadb.Client()"
   ]
  },
  {
   "cell_type": "code",
   "execution_count": 62,
   "id": "adae9aae",
   "metadata": {},
   "outputs": [],
   "source": [
    "collection_name = \"java-code-raptor-2\"\n",
    "try:\n",
    "    collection = chroma_client.get_collection(name=collection_name)\n",
    "except Exception:\n",
    "    collection = chroma_client.create_collection(name=collection_name)"
   ]
  },
  {
   "cell_type": "code",
   "execution_count": 63,
   "id": "8448c728",
   "metadata": {},
   "outputs": [
    {
     "name": "stdout",
     "output_type": "stream",
     "text": [
      "Processing 1...\n",
      "Processing 2...\n",
      "Total documents to insert: 16\n"
     ]
    }
   ],
   "source": [
    "import json\n",
    "\n",
    "raptor_data_path = \"./java-result.json\"\n",
    "with open(raptor_data_path, \"r\") as f:\n",
    "    raptor_data = json.load(f)\n",
    "\n",
    "db_data = []\n",
    "for index, data in raptor_data.items():\n",
    "    print(f\"Processing {index}...\")\n",
    "    for summary in data[0]:\n",
    "        db_data.append({\n",
    "            \"document\": summary[\"text\"],\n",
    "            \"embedding\": summary[\"embd\"],\n",
    "            \"metadata\": {\n",
    "                \"index\": index,\n",
    "                \"cluster\": summary[\"cluster\"][0],\n",
    "            }\n",
    "        })\n",
    "\n",
    "print(f\"Total documents to insert: {len(db_data)}\")"
   ]
  },
  {
   "cell_type": "code",
   "execution_count": 64,
   "id": "eec17dbe",
   "metadata": {},
   "outputs": [],
   "source": [
    "collection.add(\n",
    "    documents=[doc['document'] for doc in db_data],\n",
    "    embeddings=[doc['embedding'] for doc in db_data],\n",
    "    metadatas=[doc['metadata'] for doc in db_data],\n",
    "    ids=[f\"doc_{i}\" for i, _ in enumerate(db_data)]\n",
    ")"
   ]
  },
  {
   "cell_type": "code",
   "execution_count": 42,
   "id": "830458e2",
   "metadata": {},
   "outputs": [],
   "source": [
    "import ollama\n",
    "\n",
    "def embed_text(text):\n",
    "    response = ollama.embeddings(model=\"nomic-embed-text\", prompt=text)\n",
    "    return response['embedding']"
   ]
  },
  {
   "cell_type": "code",
   "execution_count": null,
   "id": "3f20f066",
   "metadata": {},
   "outputs": [
    {
     "name": "stdout",
     "output_type": "stream",
     "text": [
      "Query Results:\n",
      "(File: README.md) This code is a basic API project using Java 11 + Maven + Spring Boot + PostgrSQL + Flyway. It includes instructions on how to set up the environment, install dependencies, configure the database connection, and create a simple project structure.\n",
      "\n",
      "The code also provides useful commands for starting the server, installing dependencies, and skipping tests. Additionally, it explains the organization of the project, including the use of controllers, services, DAOs, repositories, and entities.\n",
      "The provided documents are part of a Java-based Spring Boot project, including a basic HTML template, Maven configuration files, a README file with setup instructions, and a pom.xml file for dependency management. The files collectively outline the project's structure and provide necessary configurations for setting up the environment and running the application.\n",
      "(File: pom.xml) This is a Maven project file, which is used to manage dependencies and build configurations for Java-based projects. The file contains various elements such as the project's metadata, dependencies, and build settings.\n",
      "(File: application.properties) This configuration file is a Spring Boot application properties file. It sets up the server port, enables hot reload on file changes, and configures the database connection using PostgreSQL. The JDBC settings are used to connect to the database, and Flyway is used for schema management.\n",
      "(File: maven-wrapper.properties) The provided code appears to be a Maven distribution URL and wrapper URL. The distribution URL points to the Apache Maven 3.8.3 binary, while the wrapper URL points to the Maven Wrapper JAR file version 3.1.0.\n",
      "(File: UserRepo.java) This code adds database methods to the \"User\" entity in a Spring Data JPA repository. The methods include finding users by their ID or email, updating an existing user's details.\n",
      "(File: UserController.java) This Java code is a RESTful API controller for managing users. It provides endpoints for fetching all users, finding one user by ID, adding a new user, updating an existing user, and deleting a user by ID. The controller uses the Spring framework and relies on a UserService to perform the actual operations.\n",
      "(File: Main.java) This Java code is a simple Spring Boot application that starts a server and prints out its host and port. The @SpringBootApplication annotation indicates that this class is the main entry point of the application, and it uses the SpringApplication.run method to start the server.\n",
      "(File: UserService.java) This Java class provides a business logic layer for user management. It uses dependency injection to receive a UserDao instance, which is responsible for interacting with the database. The UserService class offers methods to retrieve all users, get one user by id, add a new user, update an existing user, and delete a user by id.\n",
      "(File: V1__init.sql) The code snippet creates a new schema named 'main' if it does not already exist.\n",
      "\n"
     ]
    }
   ],
   "source": [
    "query = \"sql schema\"\n",
    "query_embedding = embed_text(query)\n",
    "results = collection.query(\n",
    "    query_embeddings=[query_embedding],\n",
    "    n_results=10,\n",
    ")\n",
    "print(\"Query Results:\")\n",
    "context = \"\"\n",
    "for result in results['documents'][0]:\n",
    "    context += f\"{result}\\n\"\n",
    "\n",
    "print(context)"
   ]
  },
  {
   "cell_type": "code",
   "execution_count": 44,
   "id": "bc600ee4",
   "metadata": {},
   "outputs": [],
   "source": [
    "import dspy\n",
    "lm = dspy.LM(\"ollama_chat/llama3.2\", api_base=\"http://localhost:11434\", api_key=\"\")\n",
    "dspy.configure(lm=lm)"
   ]
  },
  {
   "cell_type": "code",
   "execution_count": 45,
   "id": "39896294",
   "metadata": {},
   "outputs": [],
   "source": [
    "rag = dspy.ChainOfThought(\"context, question -> response\")"
   ]
  },
  {
   "cell_type": "code",
   "execution_count": 78,
   "id": "5cd6e40e",
   "metadata": {},
   "outputs": [
    {
     "name": "stdout",
     "output_type": "stream",
     "text": [
      "Response:\n",
      "{ \n",
      "  \"/users\",\n",
      "  \"/users/{id}\",\n",
      "  \"/users/new\",\n",
      "  \"/users/{id}/update\",\n",
      "  \"/users/{id}/delete\"\n",
      "}\n",
      "Reasoning:\n",
      "The provided Java Spring Boot project includes several URL paths that can be identified from the controller classes. These include:\n",
      "\n",
      "*   `/users`: This path is used to fetch all users.\n",
      "*   `/users/{id}`: This path is used to find one user by their ID.\n",
      "*   `/users/new`: This path is used to add a new user.\n",
      "*   `/users/{id}/update`: This path is used to update an existing user's details.\n",
      "*   `/users/{id}/delete`: This path is used to delete a user by ID.\n"
     ]
    }
   ],
   "source": [
    "response = rag(context=context, question=query)\n",
    "print(\"Response:\")\n",
    "print(response['response'])\n",
    "print(\"Reasoning:\")\n",
    "print(response['reasoning'])"
   ]
  }
 ],
 "metadata": {
  "kernelspec": {
   "display_name": "Python 3",
   "language": "python",
   "name": "python3"
  },
  "language_info": {
   "codemirror_mode": {
    "name": "ipython",
    "version": 3
   },
   "file_extension": ".py",
   "mimetype": "text/x-python",
   "name": "python",
   "nbconvert_exporter": "python",
   "pygments_lexer": "ipython3",
   "version": "3.10.17"
  }
 },
 "nbformat": 4,
 "nbformat_minor": 5
}
